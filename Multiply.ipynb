{
 "cells": [
  {
<<<<<<< HEAD
   "cell_type": "markdown",
   "metadata": {},
   "source": [
    "## Multiplying Matrices "
=======
   "cell_type": "code",
   "execution_count": 21,
   "metadata": {},
   "outputs": [],
   "source": [
    "import pandas as pd"
>>>>>>> 5f077905e7504e57f5a473190005990ae6e80d99
   ]
  },
  {
   "cell_type": "code",
<<<<<<< HEAD
   "execution_count": 5,
   "metadata": {},
   "outputs": [],
   "source": [
    "import pandas as pd "
=======
   "execution_count": 22,
   "metadata": {},
   "outputs": [
    {
     "data": {
      "text/html": [
       "<div>\n",
       "<style scoped>\n",
       "    .dataframe tbody tr th:only-of-type {\n",
       "        vertical-align: middle;\n",
       "    }\n",
       "\n",
       "    .dataframe tbody tr th {\n",
       "        vertical-align: top;\n",
       "    }\n",
       "\n",
       "    .dataframe thead th {\n",
       "        text-align: right;\n",
       "    }\n",
       "</style>\n",
       "<table border=\"1\" class=\"dataframe\">\n",
       "  <thead>\n",
       "    <tr style=\"text-align: right;\">\n",
       "      <th></th>\n",
       "      <th>Col 1</th>\n",
       "      <th>Col 2</th>\n",
       "      <th>Col 3</th>\n",
       "    </tr>\n",
       "  </thead>\n",
       "  <tbody>\n",
       "    <tr>\n",
       "      <th>0</th>\n",
       "      <td>-2</td>\n",
       "      <td>3</td>\n",
       "      <td>2</td>\n",
       "    </tr>\n",
       "    <tr>\n",
       "      <th>1</th>\n",
       "      <td>4</td>\n",
       "      <td>6</td>\n",
       "      <td>-2</td>\n",
       "    </tr>\n",
       "  </tbody>\n",
       "</table>\n",
       "</div>"
      ],
      "text/plain": [
       "   Col 1  Col 2  Col 3\n",
       "0     -2      3      2\n",
       "1      4      6     -2"
      ]
     },
     "execution_count": 22,
     "metadata": {},
     "output_type": "execute_result"
    }
   ],
   "source": [
    "a = pd.DataFrame()\n",
    "b = pd.DataFrame()\n",
    "a['Col 1'] = [-2,4]\n",
    "a['Col 2'] = [3,6]\n",
    "a['Col 3'] = [2,-2]\n",
    "b['Col 1'] = [4,3,-2]\n",
    "b['Col 2'] = [-1,0,3]\n",
    "b['Col 3'] = [2,1,5]\n",
    "b['Col 4'] = [5,1,-3]\n",
    "a"
>>>>>>> 5f077905e7504e57f5a473190005990ae6e80d99
   ]
  },
  {
   "cell_type": "code",
<<<<<<< HEAD
   "execution_count": 10,
=======
   "execution_count": 23,
>>>>>>> 5f077905e7504e57f5a473190005990ae6e80d99
   "metadata": {},
   "outputs": [
    {
     "data": {
      "text/html": [
       "<div>\n",
       "<style scoped>\n",
       "    .dataframe tbody tr th:only-of-type {\n",
       "        vertical-align: middle;\n",
       "    }\n",
       "\n",
       "    .dataframe tbody tr th {\n",
       "        vertical-align: top;\n",
       "    }\n",
       "\n",
       "    .dataframe thead th {\n",
       "        text-align: right;\n",
       "    }\n",
       "</style>\n",
       "<table border=\"1\" class=\"dataframe\">\n",
       "  <thead>\n",
       "    <tr style=\"text-align: right;\">\n",
       "      <th></th>\n",
<<<<<<< HEAD
       "      <th>Col. 1</th>\n",
       "      <th>Col. 2</th>\n",
       "      <th>Col.3</th>\n",
=======
       "      <th>Col 1</th>\n",
       "      <th>Col 2</th>\n",
       "      <th>Col 3</th>\n",
       "      <th>Col 4</th>\n",
>>>>>>> 5f077905e7504e57f5a473190005990ae6e80d99
       "    </tr>\n",
       "  </thead>\n",
       "  <tbody>\n",
       "    <tr>\n",
       "      <th>0</th>\n",
<<<<<<< HEAD
       "      <td>1</td>\n",
       "      <td>2</td>\n",
       "      <td>3</td>\n",
       "    </tr>\n",
       "    <tr>\n",
       "      <th>1</th>\n",
       "      <td>4</td>\n",
       "      <td>5</td>\n",
       "      <td>6</td>\n",
=======
       "      <td>4</td>\n",
       "      <td>-1</td>\n",
       "      <td>2</td>\n",
       "      <td>5</td>\n",
       "    </tr>\n",
       "    <tr>\n",
       "      <th>1</th>\n",
       "      <td>3</td>\n",
       "      <td>0</td>\n",
       "      <td>1</td>\n",
       "      <td>1</td>\n",
       "    </tr>\n",
       "    <tr>\n",
       "      <th>2</th>\n",
       "      <td>-2</td>\n",
       "      <td>3</td>\n",
       "      <td>5</td>\n",
       "      <td>-3</td>\n",
>>>>>>> 5f077905e7504e57f5a473190005990ae6e80d99
       "    </tr>\n",
       "  </tbody>\n",
       "</table>\n",
       "</div>"
      ],
      "text/plain": [
<<<<<<< HEAD
       "   Col. 1  Col. 2  Col.3\n",
       "0       1       2      3\n",
       "1       4       5      6"
      ]
     },
     "execution_count": 10,
=======
       "   Col 1  Col 2  Col 3  Col 4\n",
       "0      4     -1      2      5\n",
       "1      3      0      1      1\n",
       "2     -2      3      5     -3"
      ]
     },
     "execution_count": 23,
     "metadata": {},
     "output_type": "execute_result"
    }
   ],
   "source": [
    "b"
   ]
  },
  {
   "cell_type": "code",
   "execution_count": 24,
   "metadata": {},
   "outputs": [],
   "source": [
    "count = 0\n",
    "alll = []\n",
    "while count < b.shape[1]:\n",
    "    col = list(b.iloc[:,count])\n",
    "    dots = []\n",
    "    count2 = 0\n",
    "    while count2 < a.shape[0]:\n",
    "        row = list(a.loc[count2])\n",
    "        dot = 0\n",
    "        count3 = 0\n",
    "        while count3 < len(row):\n",
    "            dot += row[count3]*col[count3]\n",
    "            count3 += 1\n",
    "        dots.append(dot)\n",
    "        count2 += 1\n",
    "    alll.append(dots)\n",
    "    count += 1"
   ]
  },
  {
   "cell_type": "code",
   "execution_count": 25,
   "metadata": {},
   "outputs": [
    {
     "data": {
      "text/plain": [
       "[[-3, 38], [8, -10], [9, 4], [-13, 32]]"
      ]
     },
     "execution_count": 25,
>>>>>>> 5f077905e7504e57f5a473190005990ae6e80d99
     "metadata": {},
     "output_type": "execute_result"
    }
   ],
   "source": [
<<<<<<< HEAD
    "m1 = pd.DataFrame()\n",
    "m1['Col. 1'] = [1,4]\n",
    "m1['Col. 2'] = [2,5]\n",
    "m1['Col.3'] = [3,6] \n",
    "m1"
=======
    "alll"
>>>>>>> 5f077905e7504e57f5a473190005990ae6e80d99
   ]
  },
  {
   "cell_type": "code",
<<<<<<< HEAD
   "execution_count": 11,
=======
   "execution_count": 26,
   "metadata": {},
   "outputs": [],
   "source": [
    "ab = pd.DataFrame()\n",
    "i = 0\n",
    "col_count = list(b.columns)\n",
    "while i < len(col_count):\n",
    "    ab['Col ' + str(i+1)] = alll[i]\n",
    "    i += 1"
   ]
  },
  {
   "cell_type": "code",
   "execution_count": 27,
>>>>>>> 5f077905e7504e57f5a473190005990ae6e80d99
   "metadata": {},
   "outputs": [
    {
     "data": {
      "text/html": [
       "<div>\n",
       "<style scoped>\n",
       "    .dataframe tbody tr th:only-of-type {\n",
       "        vertical-align: middle;\n",
       "    }\n",
       "\n",
       "    .dataframe tbody tr th {\n",
       "        vertical-align: top;\n",
       "    }\n",
       "\n",
       "    .dataframe thead th {\n",
       "        text-align: right;\n",
       "    }\n",
       "</style>\n",
       "<table border=\"1\" class=\"dataframe\">\n",
       "  <thead>\n",
       "    <tr style=\"text-align: right;\">\n",
       "      <th></th>\n",
<<<<<<< HEAD
       "      <th>Col.1</th>\n",
       "      <th>Col. 2</th>\n",
=======
       "      <th>Col 1</th>\n",
       "      <th>Col 2</th>\n",
       "      <th>Col 3</th>\n",
       "      <th>Col 4</th>\n",
>>>>>>> 5f077905e7504e57f5a473190005990ae6e80d99
       "    </tr>\n",
       "  </thead>\n",
       "  <tbody>\n",
       "    <tr>\n",
       "      <th>0</th>\n",
<<<<<<< HEAD
       "      <td>7</td>\n",
       "      <td>8</td>\n",
       "    </tr>\n",
       "    <tr>\n",
       "      <th>1</th>\n",
       "      <td>9</td>\n",
       "      <td>10</td>\n",
       "    </tr>\n",
       "    <tr>\n",
       "      <th>2</th>\n",
       "      <td>11</td>\n",
       "      <td>12</td>\n",
=======
       "      <td>-3</td>\n",
       "      <td>8</td>\n",
       "      <td>9</td>\n",
       "      <td>-13</td>\n",
       "    </tr>\n",
       "    <tr>\n",
       "      <th>1</th>\n",
       "      <td>38</td>\n",
       "      <td>-10</td>\n",
       "      <td>4</td>\n",
       "      <td>32</td>\n",
       "    </tr>\n",
       "  </tbody>\n",
       "</table>\n",
       "</div>"
      ],
      "text/plain": [
       "   Col 1  Col 2  Col 3  Col 4\n",
       "0     -3      8      9    -13\n",
       "1     38    -10      4     32"
      ]
     },
     "execution_count": 27,
     "metadata": {},
     "output_type": "execute_result"
    }
   ],
   "source": [
    "ab"
   ]
  },
  {
   "cell_type": "code",
   "execution_count": 28,
   "metadata": {},
   "outputs": [],
   "source": [
    "def multiply(a, b):\n",
    "    count = 0\n",
    "    alll = []\n",
    "    while count < b.shape[1]:\n",
    "        col = list(b.iloc[:,count])\n",
    "        dots = []\n",
    "        count2 = 0\n",
    "        while count2 < a.shape[0]:\n",
    "            row = list(a.loc[count2])\n",
    "            dot = 0\n",
    "            count3 = 0\n",
    "            while count3 < len(row):\n",
    "                dot += row[count3]*col[count3]\n",
    "                count3 += 1\n",
    "            dots.append(dot)\n",
    "            count2 += 1\n",
    "        alll.append(dots)\n",
    "        count += 1\n",
    "    ab = pd.DataFrame()\n",
    "    i = 0\n",
    "    col_count = list(b.columns)\n",
    "    while i < len(col_count):\n",
    "        ab['Col ' + str(i+1)] = alll[i]\n",
    "        i += 1\n",
    "    return ab\n",
    "    "
   ]
  },
  {
   "cell_type": "code",
   "execution_count": 29,
   "metadata": {},
   "outputs": [
    {
     "data": {
      "text/html": [
       "<div>\n",
       "<style scoped>\n",
       "    .dataframe tbody tr th:only-of-type {\n",
       "        vertical-align: middle;\n",
       "    }\n",
       "\n",
       "    .dataframe tbody tr th {\n",
       "        vertical-align: top;\n",
       "    }\n",
       "\n",
       "    .dataframe thead th {\n",
       "        text-align: right;\n",
       "    }\n",
       "</style>\n",
       "<table border=\"1\" class=\"dataframe\">\n",
       "  <thead>\n",
       "    <tr style=\"text-align: right;\">\n",
       "      <th></th>\n",
       "      <th>Col 1</th>\n",
       "      <th>Col 2</th>\n",
       "      <th>Col 3</th>\n",
       "      <th>Col 4</th>\n",
       "    </tr>\n",
       "  </thead>\n",
       "  <tbody>\n",
       "    <tr>\n",
       "      <th>0</th>\n",
       "      <td>-3</td>\n",
       "      <td>8</td>\n",
       "      <td>9</td>\n",
       "      <td>-13</td>\n",
       "    </tr>\n",
       "    <tr>\n",
       "      <th>1</th>\n",
       "      <td>38</td>\n",
       "      <td>-10</td>\n",
       "      <td>4</td>\n",
       "      <td>32</td>\n",
>>>>>>> 5f077905e7504e57f5a473190005990ae6e80d99
       "    </tr>\n",
       "  </tbody>\n",
       "</table>\n",
       "</div>"
      ],
      "text/plain": [
<<<<<<< HEAD
       "   Col.1  Col. 2\n",
       "0      7       8\n",
       "1      9      10\n",
       "2     11      12"
      ]
     },
     "execution_count": 11,
=======
       "   Col 1  Col 2  Col 3  Col 4\n",
       "0     -3      8      9    -13\n",
       "1     38    -10      4     32"
      ]
     },
     "execution_count": 29,
>>>>>>> 5f077905e7504e57f5a473190005990ae6e80d99
     "metadata": {},
     "output_type": "execute_result"
    }
   ],
   "source": [
<<<<<<< HEAD
    "m2 = pd.DataFrame()\n",
    "m2['Col.1'] = [7,9,11]\n",
    "m2['Col. 2'] = [8,10,12] \n",
    "m2"
=======
    "multiply(a, b)"
>>>>>>> 5f077905e7504e57f5a473190005990ae6e80d99
   ]
  },
  {
   "cell_type": "code",
<<<<<<< HEAD
   "execution_count": 17,
   "metadata": {},
   "outputs": [],
   "source": [
    "m3 = pd.DataFrame()"
   ]
=======
   "execution_count": null,
   "metadata": {},
   "outputs": [],
   "source": []
>>>>>>> 5f077905e7504e57f5a473190005990ae6e80d99
  }
 ],
 "metadata": {
  "kernelspec": {
   "display_name": "Python 3",
   "language": "python",
   "name": "python3"
  },
  "language_info": {
   "codemirror_mode": {
    "name": "ipython",
    "version": 3
   },
   "file_extension": ".py",
   "mimetype": "text/x-python",
   "name": "python",
   "nbconvert_exporter": "python",
   "pygments_lexer": "ipython3",
   "version": "3.7.1"
  }
 },
 "nbformat": 4,
 "nbformat_minor": 2
}
