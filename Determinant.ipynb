{
 "cells": [
  {
   "cell_type": "code",
   "execution_count": 1,
   "metadata": {},
   "outputs": [],
   "source": [
    "import pandas as pd"
   ]
  },
  {
   "cell_type": "code",
   "execution_count": 2,
   "metadata": {},
   "outputs": [
    {
     "data": {
      "text/html": [
       "<div>\n",
       "<style scoped>\n",
       "    .dataframe tbody tr th:only-of-type {\n",
       "        vertical-align: middle;\n",
       "    }\n",
       "\n",
       "    .dataframe tbody tr th {\n",
       "        vertical-align: top;\n",
       "    }\n",
       "\n",
       "    .dataframe thead th {\n",
       "        text-align: right;\n",
       "    }\n",
       "</style>\n",
       "<table border=\"1\" class=\"dataframe\">\n",
       "  <thead>\n",
       "    <tr style=\"text-align: right;\">\n",
       "      <th></th>\n",
       "      <th>C1</th>\n",
       "      <th>C2</th>\n",
       "      <th>C3</th>\n",
       "    </tr>\n",
       "  </thead>\n",
       "  <tbody>\n",
       "    <tr>\n",
       "      <th>0</th>\n",
       "      <td>1</td>\n",
       "      <td>7</td>\n",
       "      <td>2</td>\n",
       "    </tr>\n",
       "    <tr>\n",
       "      <th>1</th>\n",
       "      <td>2</td>\n",
       "      <td>1</td>\n",
       "      <td>7</td>\n",
       "    </tr>\n",
       "    <tr>\n",
       "      <th>2</th>\n",
       "      <td>4</td>\n",
       "      <td>6</td>\n",
       "      <td>0</td>\n",
       "    </tr>\n",
       "  </tbody>\n",
       "</table>\n",
       "</div>"
      ],
      "text/plain": [
       "   C1  C2  C3\n",
       "0   1   7   2\n",
       "1   2   1   7\n",
       "2   4   6   0"
      ]
     },
     "execution_count": 2,
     "metadata": {},
     "output_type": "execute_result"
    }
   ],
   "source": [
    "matrix = pd.DataFrame()\n",
    "matrix['C1'] = [1,2,4]\n",
    "matrix['C2'] = [7,1,6]\n",
    "matrix['C3'] = [2,7,0]\n",
    "matrix"
   ]
  },
  {
   "cell_type": "code",
   "execution_count": 88,
   "metadata": {},
   "outputs": [],
   "source": [
    "def det2(matrix):\n",
    "    if matrix.shape == (2,2):\n",
    "        r = matrix.shape[0]\n",
    "        a = matrix.loc[r-2][r-2]\n",
    "        b = matrix.loc[r-2][r-1]\n",
    "        c = matrix.loc[r-1][r-2]\n",
    "        d = matrix.loc[r-1][r-1]\n",
    "        return a*d - b*c\n",
    "    else:\n",
    "        print('Not a 2x2 matrix.')\n",
    "    "
   ]
  },
  {
   "cell_type": "code",
   "execution_count": 4,
   "metadata": {},
   "outputs": [
    {
     "name": "stdout",
     "output_type": "stream",
     "text": [
      "Not a 2x2 matrix.\n"
     ]
    }
   ],
   "source": [
    "det2(matrix)"
   ]
  },
  {
   "cell_type": "code",
   "execution_count": 5,
   "metadata": {},
   "outputs": [],
   "source": [
    "def det3(matrix):\n",
    "    if matrix.shape == (3,3):\n",
    "        a = matrix.loc[0][0]\n",
    "        b = matrix.loc[0][1]\n",
    "        c = matrix.loc[0][2]\n",
    "        d = matrix.loc[1][0]\n",
    "        e = matrix.loc[1][1]\n",
    "        f = matrix.loc[1][2]\n",
    "        g = matrix.loc[2][0]\n",
    "        h = matrix.loc[2][1]\n",
    "        i = matrix.loc[2][2]\n",
    "        pt1 = a*(e*i-f*h)\n",
    "        pt2 = b*(d*i-f*g)\n",
    "        pt3 = c*(d*h-e*g)\n",
    "        return pt1 - pt2 + pt3\n",
    "    else:\n",
    "        print('Not a 3x3 matrix.')"
   ]
  },
  {
   "cell_type": "code",
   "execution_count": 6,
   "metadata": {},
   "outputs": [
    {
     "data": {
      "text/plain": [
       "170"
      ]
     },
     "execution_count": 6,
     "metadata": {},
     "output_type": "execute_result"
    }
   ],
   "source": [
    "det3(matrix)"
   ]
  },
  {
   "cell_type": "code",
   "execution_count": 7,
   "metadata": {},
   "outputs": [],
   "source": [
    "x = matrix.shape\n",
    "num = x[0]\n",
    "num\n",
    "count1 = 0\n",
    "count2 = 0"
   ]
  },
  {
   "cell_type": "code",
   "execution_count": 8,
   "metadata": {},
   "outputs": [],
   "source": [
    "def det32(matrix):\n",
    "    if matrix.shape == (3,3):\n",
    "        r = matrix.shape[0]\n",
    "        cof1 = matrix.loc[0][0]\n",
    "        cof2 = matrix.loc[0][1]\n",
    "        cof3 = matrix.loc[0][2]\n",
    "        count = 0\n",
    "        cofacs = matrix.loc[0]\n",
    "        \n",
    "        a = matrix.loc[0][0]\n",
    "        b = matrix.loc[0][1]\n",
    "        c = matrix.loc[0][2]\n",
    "        d = matrix.loc[1][0]\n",
    "        e = matrix.loc[1][1]\n",
    "        f = matrix.loc[1][2]\n",
    "        g = matrix.loc[2][0]\n",
    "        h = matrix.loc[2][1]\n",
    "        i = matrix.loc[2][2]\n",
    "        pt1 = a*(e*i-f*h)\n",
    "        pt2 = b*(d*i-f*g)\n",
    "        pt3 = c*(d*h-e*g)\n",
    "        return pt1 - pt2 + pt3\n",
    "    else:\n",
    "        print('Not a 3x3 matrix.')"
   ]
  },
  {
   "cell_type": "code",
   "execution_count": 9,
   "metadata": {},
   "outputs": [
    {
     "data": {
      "text/plain": [
       "[1, 7, 2]"
      ]
     },
     "execution_count": 9,
     "metadata": {},
     "output_type": "execute_result"
    }
   ],
   "source": [
    "r = 3\n",
    "count = 0\n",
    "cofacs = []\n",
    "while count < r:\n",
    "    cofacs.append(matrix.loc[0][count])\n",
    "    count += 1\n",
    "cofacs"
   ]
  },
  {
   "cell_type": "code",
   "execution_count": 61,
   "metadata": {},
   "outputs": [
    {
     "data": {
      "text/plain": [
       "[2, -2, 0, -4]"
      ]
     },
     "execution_count": 61,
     "metadata": {},
     "output_type": "execute_result"
    }
   ],
   "source": [
    "cos = list(mat2.loc[0])\n",
    "cofs = []\n",
    "\n",
    "inc = 0\n",
    "for item in cos:\n",
    "    if inc % 2 == 0:\n",
    "        cofs.append(item)\n",
    "    if inc % 2 == 1:\n",
    "        cofs.append(-item)\n",
    "    inc += 1\n",
    "    \n",
    "cofs"
   ]
  },
  {
   "cell_type": "code",
   "execution_count": 59,
   "metadata": {},
   "outputs": [
    {
     "data": {
      "text/plain": [
       "[2, 2, 0, -4]"
      ]
     },
     "execution_count": 59,
     "metadata": {},
     "output_type": "execute_result"
    }
   ],
   "source": [
    "\n",
    "cofs"
   ]
  },
  {
   "cell_type": "code",
   "execution_count": 56,
   "metadata": {},
   "outputs": [
    {
     "name": "stdout",
     "output_type": "stream",
     "text": [
      "[1, -12, 1, -12]\n"
     ]
    },
    {
     "data": {
      "text/plain": [
       "3"
      ]
     },
     "execution_count": 56,
     "metadata": {},
     "output_type": "execute_result"
    }
   ],
   "source": [
    "int = 3\n",
    "print(cofs)\n",
    "int"
   ]
  },
  {
   "cell_type": "code",
   "execution_count": 76,
   "metadata": {},
   "outputs": [
    {
     "data": {
      "text/html": [
       "<div>\n",
       "<style scoped>\n",
       "    .dataframe tbody tr th:only-of-type {\n",
       "        vertical-align: middle;\n",
       "    }\n",
       "\n",
       "    .dataframe tbody tr th {\n",
       "        vertical-align: top;\n",
       "    }\n",
       "\n",
       "    .dataframe thead th {\n",
       "        text-align: right;\n",
       "    }\n",
       "</style>\n",
       "<table border=\"1\" class=\"dataframe\">\n",
       "  <thead>\n",
       "    <tr style=\"text-align: right;\">\n",
       "      <th></th>\n",
       "      <th>C1</th>\n",
       "      <th>C2</th>\n",
       "      <th>C3</th>\n",
       "      <th>C4</th>\n",
       "    </tr>\n",
       "  </thead>\n",
       "  <tbody>\n",
       "    <tr>\n",
       "      <th>0</th>\n",
       "      <td>5</td>\n",
       "      <td>-2</td>\n",
       "      <td>4</td>\n",
       "      <td>-1</td>\n",
       "    </tr>\n",
       "    <tr>\n",
       "      <th>1</th>\n",
       "      <td>0</td>\n",
       "      <td>1</td>\n",
       "      <td>5</td>\n",
       "      <td>2</td>\n",
       "    </tr>\n",
       "    <tr>\n",
       "      <th>2</th>\n",
       "      <td>1</td>\n",
       "      <td>2</td>\n",
       "      <td>0</td>\n",
       "      <td>1</td>\n",
       "    </tr>\n",
       "    <tr>\n",
       "      <th>3</th>\n",
       "      <td>-3</td>\n",
       "      <td>1</td>\n",
       "      <td>-1</td>\n",
       "      <td>1</td>\n",
       "    </tr>\n",
       "  </tbody>\n",
       "</table>\n",
       "</div>"
      ],
      "text/plain": [
       "   C1  C2  C3  C4\n",
       "0   5  -2   4  -1\n",
       "1   0   1   5   2\n",
       "2   1   2   0   1\n",
       "3  -3   1  -1   1"
      ]
     },
     "execution_count": 76,
     "metadata": {},
     "output_type": "execute_result"
    }
   ],
   "source": [
    "mat2 = pd.DataFrame()\n",
    "mat2['C1'] = [5,0,1,-3]\n",
    "mat2['C2'] = [-2,1,2,1]\n",
    "mat2['C3'] = [4,5,0,-1]\n",
    "mat2['C4'] = [-1,2,1,1]\n",
    "mat2"
   ]
  },
  {
   "cell_type": "code",
   "execution_count": 58,
   "metadata": {},
   "outputs": [
    {
     "name": "stdout",
     "output_type": "stream",
     "text": [
      "[[[3, 1, 0], [2, 3, 2], [2, 2, 1]], [[3, 1, 0], [2, 3, 2], [2, 2, 1]], [[3, 0, 2], [3, 1, 0], [2, 2, 1]], [[3, 0, 2], [3, 1, 0], [2, 3, 2]]]\n"
     ]
    }
   ],
   "source": [
    "d = []\n",
    "for a in cofs:\n",
    "    dets = []\n",
    "    count = 0\n",
    "    while count < mat2.shape[0]:\n",
    "        if count != cofs.index(a):\n",
    "            dets.append(list(mat2.iloc[1:,count]))\n",
    "        count += 1\n",
    "    d.append(dets)\n",
    "print(d)"
   ]
  },
  {
   "cell_type": "code",
   "execution_count": 43,
   "metadata": {},
   "outputs": [
    {
     "data": {
      "text/plain": [
       "170"
      ]
     },
     "execution_count": 43,
     "metadata": {},
     "output_type": "execute_result"
    }
   ],
   "source": [
    "matrix = pd.DataFrame()\n",
    "matrix['C1'] = [1,2,4]\n",
    "matrix['C2'] = [7,1,6]\n",
    "matrix['C3'] = [2,7,0]\n",
    "def d24(matx):\n",
    "    return det3(matx)\n",
    "d24(matrix)\n"
   ]
  },
  {
   "cell_type": "code",
   "execution_count": 81,
   "metadata": {},
   "outputs": [
    {
     "name": "stdout",
     "output_type": "stream",
     "text": [
      "[[3, 1, 0], [2, 3, 2], [2, 2, 1]]\n",
      "[[3, 1, 0], [2, 3, 2], [2, 2, 1]]\n",
      "[[3, 0, 2], [3, 1, 0], [2, 2, 1]]\n",
      "[[3, 0, 2], [3, 1, 0], [2, 3, 2]]\n"
     ]
    },
    {
     "data": {
      "text/plain": [
       "(4, 4)"
      ]
     },
     "execution_count": 81,
     "metadata": {},
     "output_type": "execute_result"
    }
   ],
   "source": [
    "for item in d:\n",
    "    print(item)\n",
    "mat2.shape"
   ]
  },
  {
   "cell_type": "code",
   "execution_count": 89,
   "metadata": {},
   "outputs": [],
   "source": [
    "def det4(mat):\n",
    "    if mat.shape != (4, 4):\n",
    "        print('Not a 4x4 matrix.')\n",
    "        return None\n",
    "    cos = list(mat.loc[0])\n",
    "    cofs = []\n",
    "    inc = 0\n",
    "    for item in cos:\n",
    "        if inc % 2 == 0:\n",
    "            cofs.append(item)\n",
    "        if inc % 2 == 1:\n",
    "            cofs.append(-item)\n",
    "        inc += 1\n",
    "    d = []\n",
    "    for a in cofs:\n",
    "        dets = []\n",
    "        count = 0\n",
    "        while count < mat.shape[0]:\n",
    "            if count != cofs.index(a):\n",
    "                dets.append(list(mat.iloc[1:,count]))\n",
    "            count += 1\n",
    "        d.append(dets)\n",
    "    d3 = []\n",
    "    for item in d:\n",
    "        m2 = pd.DataFrame()\n",
    "        m2['Col1'] = item[0]\n",
    "        m2['Col2'] = item[1]\n",
    "        m2['Col3'] = item[2]\n",
    "        d3.append(det3(m2))\n",
    "    final_det = 0\n",
    "    for item in cofs:\n",
    "        final_det += item*d3[cofs.index(item)]\n",
    "    return final_det\n",
    "    "
   ]
  },
  {
   "cell_type": "code",
   "execution_count": 87,
   "metadata": {},
   "outputs": [
    {
     "data": {
      "text/plain": [
       "-8"
      ]
     },
     "execution_count": 87,
     "metadata": {},
     "output_type": "execute_result"
    }
   ],
   "source": [
    "det4(mat2)"
   ]
  },
  {
   "cell_type": "code",
   "execution_count": null,
   "metadata": {},
   "outputs": [],
   "source": []
  }
 ],
 "metadata": {
  "kernelspec": {
   "display_name": "Python 3",
   "language": "python",
   "name": "python3"
  },
  "language_info": {
   "codemirror_mode": {
    "name": "ipython",
    "version": 3
   },
   "file_extension": ".py",
   "mimetype": "text/x-python",
   "name": "python",
   "nbconvert_exporter": "python",
   "pygments_lexer": "ipython3",
   "version": "3.7.1"
  }
 },
 "nbformat": 4,
 "nbformat_minor": 2
}
